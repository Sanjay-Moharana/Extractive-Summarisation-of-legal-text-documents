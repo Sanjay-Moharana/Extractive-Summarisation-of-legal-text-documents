{
 "cells": [
  {
   "cell_type": "code",
   "execution_count": 1,
   "metadata": {},
   "outputs": [
    {
     "name": "stdout",
     "output_type": "stream",
     "text": [
      "Done.\n"
     ]
    }
   ],
   "source": [
    "# Save legal term\n",
    "import json\n",
    "\n",
    "#reading the legal dictionary\n",
    "file = open('dict_words.txt', 'r', encoding=\"utf8\")\n",
    "legalDictionary = file.read()\n",
    "file.close()\n",
    "legalDictionary = legalDictionary.strip().split('\\n')\n",
    "\n",
    "#removing null entries in legalDictionary\n",
    "temp = []\n",
    "for value in legalDictionary[:]:\n",
    "    if(value != ''):\n",
    "        temp.append(value)\n",
    "legalDictionary = temp\n",
    "\n",
    "#building dictionary of legal terms\n",
    "dictionary = {'LegalDict':legalDictionary}\n",
    "\n",
    "#saving dictionary to .json file\n",
    "with open('LegalDictionaryCorpus.json', 'w') as fp:\n",
    "    json.dump(dictionary, fp, sort_keys=True, indent=0)\n",
    "fp.close()\n",
    "\n",
    "print ('Done.')"
   ]
  }
 ],
 "metadata": {
  "kernelspec": {
   "display_name": "Python 3",
   "language": "python",
   "name": "python3"
  },
  "language_info": {
   "codemirror_mode": {
    "name": "ipython",
    "version": 3
   },
   "file_extension": ".py",
   "mimetype": "text/x-python",
   "name": "python",
   "nbconvert_exporter": "python",
   "pygments_lexer": "ipython3",
   "version": "3.7.0"
  }
 },
 "nbformat": 4,
 "nbformat_minor": 2
}
