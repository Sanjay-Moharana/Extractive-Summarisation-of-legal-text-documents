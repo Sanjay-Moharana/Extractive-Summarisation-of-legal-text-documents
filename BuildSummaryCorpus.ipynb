{
 "cells": [
  {
   "cell_type": "code",
   "execution_count": 1,
   "metadata": {
    "scrolled": true
   },
   "outputs": [
    {
     "name": "stdout",
     "output_type": "stream",
     "text": [
      "Done\n"
     ]
    }
   ],
   "source": [
    "# Save Summary\n",
    "import json\n",
    "\n",
    "#reading summary from the NewSummary.txt file\n",
    "file = open('Summary.txt', 'r')\n",
    "summaryDict = file.read()\n",
    "file.close()\n",
    "\n",
    "summaryDict = summaryDict.split('\\n')\n",
    "\n",
    "dictionarySummary = {}\n",
    "\n",
    "#saving content of file to dictionary\n",
    "for summary in summaryDict[:]:\n",
    "    if(summary != \"\"):\n",
    "        summary = summary.strip().split('-->')\n",
    "        fileName = summary[0]\n",
    "        dictionarySummary[fileName] = summary[1]\n",
    "\n",
    "# saving dictionary to .json file\n",
    "with open('SummaryCorpus.json', 'w') as fp:\n",
    "    json.dump(dictionarySummary, fp, sort_keys=True, indent=0)\n",
    "fp.close()\n",
    "\n",
    "print ('Done')"
   ]
  }
 ],
 "metadata": {
  "kernelspec": {
   "display_name": "Python 3",
   "language": "python",
   "name": "python3"
  },
  "language_info": {
   "codemirror_mode": {
    "name": "ipython",
    "version": 3
   },
   "file_extension": ".py",
   "mimetype": "text/x-python",
   "name": "python",
   "nbconvert_exporter": "python",
   "pygments_lexer": "ipython3",
   "version": "3.7.0"
  }
 },
 "nbformat": 4,
 "nbformat_minor": 2
}
