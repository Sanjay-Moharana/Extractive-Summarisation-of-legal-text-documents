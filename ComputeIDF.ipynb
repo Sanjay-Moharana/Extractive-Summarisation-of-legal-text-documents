{
 "cells": [
  {
   "cell_type": "code",
   "execution_count": null,
   "metadata": {},
   "outputs": [],
   "source": [
    "import json\n",
    "import os\n",
    "import math\n",
    "import gc"
   ]
  },
  {
   "cell_type": "code",
   "execution_count": null,
   "metadata": {},
   "outputs": [],
   "source": [
    "listofReadFile = []\n",
    "N = 0\n",
    "for file in os.listdir(\"LegalCorpus\"):\n",
    "    if file.endswith(\".txt\"):\n",
    "        listofReadFile.append(file)\n",
    "        N += 1"
   ]
  },
  {
   "cell_type": "code",
   "execution_count": null,
   "metadata": {},
   "outputs": [],
   "source": [
    "# Loading the Unique word corpus\n",
    "with open('UniqueBowOfDocForIDFCorpus.json', 'r') as fp:\n",
    "    readUniqueWordFromDoc = json.load(fp)"
   ]
  },
  {
   "cell_type": "code",
   "execution_count": null,
   "metadata": {},
   "outputs": [],
   "source": [
    "unionBAgOfWords = []\n",
    "totalWords = 0\n",
    "for eachDoc in listofReadFile:\n",
    "    unionBAgOfWords = set(unionBAgOfWords).union(set(readUniqueWordFromDoc[eachDoc]))"
   ]
  },
  {
   "cell_type": "code",
   "execution_count": null,
   "metadata": {},
   "outputs": [],
   "source": [
    "dynamicDictionary = {}\n",
    "dynamicDictionary = dict.fromkeys(unionBAgOfWords,0)"
   ]
  },
  {
   "cell_type": "code",
   "execution_count": null,
   "metadata": {
    "scrolled": true
   },
   "outputs": [],
   "source": [
    "dictionaryIDF = {}\n",
    "dictionaryWordIDF = {}\n",
    "listofReadFile = sorted(listofReadFile)\n",
    "countFile = 1\n",
    "print ('Building...')\n",
    "for fileName in listofReadFile:\n",
    "    uniqueWordList = []\n",
    "    uniqueWordList = readUniqueWordFromDoc[fileName]\n",
    "    \n",
    "    dictionaryWordIDF = dict.fromkeys(set(uniqueWordList), 0)\n",
    "    for word in dictionaryWordIDF:\n",
    "        if(dynamicDictionary[word] != 0):\n",
    "            dictionaryWordIDF[word] = dynamicDictionary[word]\n",
    "            continue\n",
    "        for file in listofReadFile:\n",
    "            doc = []\n",
    "            doc = readUniqueWordFromDoc[file]\n",
    "            if(word in doc):\n",
    "                dictionaryWordIDF[word] += 1\n",
    "        dynamicDictionary[word] = dictionaryWordIDF[word]\n",
    "    \n",
    "    #calculating weighted the 1 + log10(N/df)\n",
    "    for term, value in dictionaryWordIDF.items():\n",
    "        dictionaryWordIDF[term] = math.log10(N/float(value))\n",
    "    dictionaryIDF[fileName] = dictionaryWordIDF\n",
    "    dictionaryWordIDF = {}\n",
    "    \n",
    "    print (countFile, '>', fileName, end = '  ')\n",
    "    if(countFile % 10 == 0):\n",
    "        print('\\n')\n",
    "    countFile += 1\n",
    "    \n",
    "    # collecting the garbages which takes up memory. Helps to free up memory ==> Execution is Faster.\n",
    "    gc.collect()"
   ]
  },
  {
   "cell_type": "code",
   "execution_count": null,
   "metadata": {},
   "outputs": [],
   "source": [
    "#saving dictionary to .json file \n",
    "with open('IDFCorpus.json', 'w') as fp:\n",
    "    json.dump(dictionaryIDF, fp, sort_keys=True, indent=0)\n",
    "fp.close()\n",
    "\n",
    "\n",
    "#splitting the large file into two\n",
    "dictionaryIDF13 = {}\n",
    "dictionaryIDF18 = {}\n",
    "\n",
    "for key in dictionaryIDF:\n",
    "    if(key.startswith('19') or key.startswith('2010') or key.startswith('2011') or key.startswith('2012') or key.startswith('2013')):\n",
    "        dictionaryIDF13[key] = dictionaryIDF[key]\n",
    "    else:\n",
    "        dictionaryIDF18[key] = dictionaryIDF[key]\n",
    "\n",
    "with open('IDFCorpus13.json', 'w') as fp:\n",
    "    json.dump(dictionaryIDF13, fp, sort_keys=True, indent=0)\n",
    "fp.close()\n",
    "\n",
    "with open('IDFCorpus18.json', 'w') as fp:\n",
    "    json.dump(dictionaryIDF18, fp, sort_keys=True, indent=0)\n",
    "fp.close()\n",
    "\n",
    "print (\"Build Complete...\")"
   ]
  }
 ],
 "metadata": {
  "kernelspec": {
   "display_name": "Python 3",
   "language": "python",
   "name": "python3"
  },
  "language_info": {
   "codemirror_mode": {
    "name": "ipython",
    "version": 3
   },
   "file_extension": ".py",
   "mimetype": "text/x-python",
   "name": "python",
   "nbconvert_exporter": "python",
   "pygments_lexer": "ipython3",
   "version": "3.7.0"
  }
 },
 "nbformat": 4,
 "nbformat_minor": 2
}
